{
 "cells": [
  {
   "cell_type": "markdown",
   "metadata": {},
   "source": [
    "# The Impact of Generative Artificial Intelligence on Higher Education"
   ]
  },
  {
   "cell_type": "markdown",
   "metadata": {},
   "source": [
    "### Introduction\n",
    "Generative Artificial intelligence (GenAI) is transforming higher education, influencing teaching, learning, and administrative practices. As GenAI becomes more prevalent in educational settings, there is a growing body of research examining its implications, benefits, and challenges in higher education. This notebook aims to explore this research landscape by conducting a two-part analysis.\n",
    "\n",
    "### Part 1: Bibliometric Analysis\n",
    "In the first phase, we perform a bibliometric analysis using data from SCOPUS, aiming to summarize the state of the research in this field. Specifically, our objectives include:\n",
    "- **Quantifying Publication Trends ->** Determining how research on GenAI in higher education has grown over recent years.\n",
    "- **Identifying Key Contributors ->** Recognizing influential authors, institutions, and countries that are leading research efforts.\n",
    "\n",
    "### Part 2: Text Mining Analysis\n",
    "Following the bibliometric analysis, we will apply text mining techniques to the articles themselves. This phase will enable us to delve deeper into the content, uncovering nuanced insights into how AI is being discussed and understood in higher education contexts. In particular, we aim to:\n",
    "- **Extract Key Topics ->** Use natural language processing (NLP) methods to identify key themes and subtopics.\n",
    "- **Analyze Sentiment and Context ->** Examine how GenAI’s impact is portrayed in higher education, focusing on sentiments around its benefits and challenges.\n",
    "\n",
    "### Methodology\n",
    "We will use SCOPUS API to aquire articles based on the following search query:\n",
    "``` \"impact\" AND \"high* education\" AND ( \"generative artificial intelligence\" OR \"GenAI\" ) ```. Our approach will follow these steps:\n",
    "1. **Data collection ->** Retrieve bibliometric data from SCOPUS, including article titles, abstracts, authors, affiliations, and publication years.\n",
    "2. **Data Processing ->** Organize and clean the data for analysis, ensuring it is suitable for quantitative and qualitative assessments.\n",
    "3. **Analysis:**\n",
    "    * **Publication Trends ->** Analyze the number of publications over time to identify growth patterns.\n",
    "    * **Key Contributors ->** Identify leading authors, institutions, and countries in AI research within higher education.\n",
    "    * **Research Themes ->** Use text mining techniques to uncover major themes and topics in the literature.\n",
    "\n",
    "\n",
    "### Expected outcomes\n",
    "This analysis will contribute to understanding the broader impact of GenAI on higher education, offering valuable perspectives for academics, practitioners, and policymakers aiming to leverage AI technologies to enhance educational experiences and outcomes.\n"
   ]
  },
  {
   "cell_type": "markdown",
   "metadata": {},
   "source": [
    "========================================================================================================================================"
   ]
  },
  {
   "cell_type": "markdown",
   "metadata": {},
   "source": [
    "#### Importing required libraries and modules"
   ]
  },
  {
   "cell_type": "code",
   "execution_count": 2,
   "metadata": {},
   "outputs": [],
   "source": [
    "import os\n",
    "import sys\n",
    "import requests\n",
    "import json\n",
    "import pickle\n",
    "import math \n",
    "import pandas as pd\n",
    "import pandas as pd\n",
    "import matplotlib.pyplot as plt\n",
    "import seaborn as sns\n",
    "import re\n",
    "\n",
    "# Add custom module that provides auxiliar functions\n",
    "aux_modules_path = os.path.abspath(os.path.join('./scripts'))\n",
    "if aux_modules_path not in sys.path:\n",
    "    sys.path.append(aux_modules_path)\n"
   ]
  },
  {
   "cell_type": "markdown",
   "metadata": {},
   "source": [
    "#### API Key Configuration"
   ]
  },
  {
   "cell_type": "code",
   "execution_count": null,
   "metadata": {},
   "outputs": [],
   "source": [
    "from dotenv import load_dotenv\n",
    "\n",
    "load_dotenv()\n",
    "\n",
    "API_KEY = os.getenv('API_KEY')\n",
    "\n",
    "print(f\"API Key: {API_KEY}\")"
   ]
  },
  {
   "cell_type": "markdown",
   "metadata": {},
   "source": [
    "#### Data Collection\n",
    "This will take some time due to the high amount of articles retrieved."
   ]
  },
  {
   "cell_type": "code",
   "execution_count": null,
   "metadata": {},
   "outputs": [],
   "source": [
    "# variable to store the data returned by the SCOPUS API\n",
    "API_DATA = None\n",
    "\n",
    "# query to send to SCOPUS API\n",
    "user_query = '\"impact\" AND \"high* education\" AND ( \"generative artificial intelligence\" OR \"GenAI\" )'\n",
    "\n",
    "def fetch_all_articles():\n",
    "    articles = []\n",
    "    total_results = None\n",
    "    start = 0\n",
    "    count = 25  # results per page, max 25\n",
    "    \n",
    "    while True:\n",
    "        params = {\n",
    "            'query': user_query,\n",
    "            'apiKey': API_KEY,\n",
    "            'start': start,\n",
    "            'count': count\n",
    "        }\n",
    "        \n",
    "        response = requests.get(\"https://api.elsevier.com/content/search/scopus\", params=params)\n",
    "        \n",
    "        if response.status_code != 200:\n",
    "            if response.status_code == 429:\n",
    "                print(\"You have hit the limit quota:\", response.status_code)\n",
    "                break\n",
    "            if len(articles) >= 5000:\n",
    "                print(\"Hit the rate limit of results retrieved.\")\n",
    "                break\n",
    "            print(\"Failed to retrieve data:\", response.status_code)\n",
    "            break\n",
    "        \n",
    "        data = response.json()\n",
    "        entries = data.get(\"search-results\", {}).get(\"entry\", [])\n",
    "        \n",
    "        if total_results == None and 'opensearch:totalResults' in data.get(\"search-results\", {}):\n",
    "            total_results = int(data.get(\"search-results\", {}).get(\"opensearch:totalResults\"))\n",
    "\n",
    "        if not entries:\n",
    "            break\n",
    "        \n",
    "        # Process each entry and add it to the articles list\n",
    "        for entry in entries:\n",
    "            article_data = {\n",
    "                \"title\": entry.get(\"dc:title\", \"No title\"),\n",
    "                \"author_names\": [author.get(\"authname\") for author in entry.get(\"author\", [])],\n",
    "                \"publication_name\": entry.get(\"prism:publicationName\"),\n",
    "                \"publication_date\": entry.get(\"prism:coverDate\"),\n",
    "                \"doi\": entry.get(\"prism:doi\"),\n",
    "                \"cited_by_count\": entry.get(\"citedby-count\", \"0\"),\n",
    "                \"abstract\": entry.get(\"dc:description\", \"No abstract\"),\n",
    "                \"keywords\": [kw.get(\"keyword\") for kw in entry.get(\"keywords\", [])],\n",
    "                \"affiliations\": [\n",
    "                    {\n",
    "                        \"name\": affil.get(\"affilname\", \"No affiliation name\"),\n",
    "                        \"city\": affil.get(\"affiliation-city\", \"No city\"),\n",
    "                        \"country\": affil.get(\"affiliation-country\", \"No country\")\n",
    "                    }\n",
    "                    for affil in entry.get(\"affiliation\", [])\n",
    "                ]\n",
    "            }\n",
    "            articles.append(article_data)\n",
    "        \n",
    "        # Update the start index for the next batch\n",
    "        start += count\n",
    "\n",
    "    print(\"Number of articles retrieved: \", len(articles))\n",
    "    print(f\"Total number of articles: {total_results}\")\n",
    "    return pd.DataFrame(articles)\n",
    "\n",
    "API_DATA = fetch_all_articles()"
   ]
  },
  {
   "cell_type": "markdown",
   "metadata": {},
   "source": [
    "However, the data retrieved trough the API has some missing fields we consider to crucial in our analysis. Therefore, we will use the exported csv from SCOPUS, in order to more accuratly study the topic at hand."
   ]
  },
  {
   "cell_type": "code",
   "execution_count": 3,
   "metadata": {},
   "outputs": [
    {
     "name": "stderr",
     "output_type": "stream",
     "text": [
      "<>:4: SyntaxWarning: invalid escape sequence '\\d'\n",
      "<>:4: SyntaxWarning: invalid escape sequence '\\d'\n",
      "C:\\Users\\gilra\\AppData\\Local\\Temp\\ipykernel_25792\\3323738601.py:4: SyntaxWarning: invalid escape sequence '\\d'\n",
      "  CSV_DATA = pd.read_csv('..\\data\\scopus.csv')\n"
     ]
    },
    {
     "data": {
      "text/plain": [
       "Index(['Authors', 'Author full names', 'Author(s) ID', 'Title', 'Year',\n",
       "       'Source title', 'Volume', 'Issue', 'Art. No.', 'Page start', 'Page end',\n",
       "       'Page count', 'Cited by', 'DOI', 'Link', 'Affiliations',\n",
       "       'Authors with affiliations', 'Abstract', 'Author Keywords',\n",
       "       'Index Keywords', 'Molecular Sequence Numbers', 'Chemicals/CAS',\n",
       "       'Tradenames', 'Manufacturers', 'Funding Details', 'Funding Texts',\n",
       "       'References', 'Correspondence Address', 'Editors', 'Publisher',\n",
       "       'Sponsors', 'Conference name', 'Conference date', 'Conference location',\n",
       "       'Conference code', 'ISSN', 'ISBN', 'CODEN', 'PubMed ID',\n",
       "       'Language of Original Document', 'Abbreviated Source Title',\n",
       "       'Document Type', 'Publication Stage', 'Open Access', 'Source', 'EID'],\n",
       "      dtype='object')"
      ]
     },
     "execution_count": 3,
     "metadata": {},
     "output_type": "execute_result"
    }
   ],
   "source": [
    "# variable to store the data import from the CSV\n",
    "CSV_DATA = None\n",
    "\n",
    "CSV_DATA = pd.read_csv('..\\data\\scopus.csv')\n",
    "CSV_DATA.columns"
   ]
  },
  {
   "cell_type": "code",
   "execution_count": null,
   "metadata": {},
   "outputs": [],
   "source": [
    "CSV_DATA[:3]"
   ]
  },
  {
   "cell_type": "code",
   "execution_count": null,
   "metadata": {},
   "outputs": [],
   "source": [
    "print(\"Articles retrieved from the API: \", len(API_DATA))\n",
    "print(\"Articles imported from the CSV: \", len(CSV_DATA))"
   ]
  },
  {
   "cell_type": "markdown",
   "metadata": {},
   "source": [
    "## Part 1: Bibliometric analysis"
   ]
  },
  {
   "cell_type": "markdown",
   "metadata": {},
   "source": [
    "### What?"
   ]
  },
  {
   "cell_type": "markdown",
   "metadata": {},
   "source": [
    "#### Publication quantity and types"
   ]
  },
  {
   "cell_type": "code",
   "execution_count": null,
   "metadata": {},
   "outputs": [],
   "source": [
    "# df -> dataset\n",
    "# opt -> whether the data is from the csv or from the api, to know which column name to search for\n",
    "def plot_publication_types(df, opt):\n",
    "    publication_type_counts = None\n",
    "    if opt == 0:\n",
    "        publication_type_counts = df['Document Type'].value_counts()\n",
    "    elif opt == 1:\n",
    "        publication_type_counts = df['publication_type'].value_counts()\n",
    "\n",
    "        \n",
    "    plt.figure(figsize=(8, 6))\n",
    "    sns.barplot(x=publication_type_counts.values, y=publication_type_counts.index, palette=\"viridis\")\n",
    "    plt.title(\"Distribution of Publication Types\")\n",
    "    plt.xlabel(\"Number of Publications\")\n",
    "    plt.ylabel(\"Publication Type\")\n",
    "    plt.show()\n",
    "\n",
    "plot_publication_types(CSV_DATA if CSV_DATA is not None else API_DATA, 0 if CSV_DATA is not None else 1)"
   ]
  },
  {
   "cell_type": "markdown",
   "metadata": {},
   "source": [
    "#### Top Keywords\n",
    "Only works with data from the CSV, has the standard API does not give data about the keywords"
   ]
  },
  {
   "cell_type": "code",
   "execution_count": null,
   "metadata": {},
   "outputs": [],
   "source": [
    "def plot_top_keywords(df):\n",
    "    all_keywords = [kw.strip() for keywords in df['Author Keywords'].dropna() for kw in keywords.split(';')]\n",
    "    top_keywords = pd.Series(all_keywords).value_counts().head(10)\n",
    "    \n",
    "    plt.figure(figsize=(10, 6))\n",
    "    sns.barplot(x=top_keywords.values, y=top_keywords.index, palette=\"coolwarm\")\n",
    "    plt.title(\"Top 10 Keywords in Publications\")\n",
    "    plt.xlabel(\"Frequency\")\n",
    "    plt.ylabel(\"Keyword\")\n",
    "    plt.show()\n",
    "\n",
    "if CSV_DATA is not None:\n",
    "    plot_top_keywords(CSV_DATA)\n",
    "else:\n",
    "    print(\"Please use CSV, as the API does not provide the necessary data to plot this information\")"
   ]
  },
  {
   "cell_type": "markdown",
   "metadata": {},
   "source": [
    "#### Open Access vs Closed Access Counts"
   ]
  },
  {
   "cell_type": "code",
   "execution_count": null,
   "metadata": {},
   "outputs": [],
   "source": [
    "def access(df):\n",
    "   return df['Open Access'].value_counts()\n",
    "\n",
    "open_access_counts = access(CSV_DATA if CSV_DATA is not None else API_DATA)\n",
    "\n",
    "# Bar Chart\n",
    "plt.figure(figsize=(8, 6))\n",
    "open_access_counts.plot(kind='bar')"
   ]
  },
  {
   "cell_type": "markdown",
   "metadata": {},
   "source": [
    "### Where?"
   ]
  },
  {
   "cell_type": "markdown",
   "metadata": {},
   "source": [
    "#### Top journals and conferences"
   ]
  },
  {
   "cell_type": "code",
   "execution_count": null,
   "metadata": {},
   "outputs": [],
   "source": [
    "# df -> dataset\n",
    "# opt -> whether the data is from the csv or from the api, to know which column name to search for\n",
    "def plot_relevant_sources(df, opt):\n",
    "    top_sources = df['Source title' if opt == 0 else 'publication_name'].value_counts().head(10)\n",
    "    \n",
    "    plt.figure(figsize=(10, 6))\n",
    "    sns.barplot(x=top_sources.values, y=top_sources.index, palette=\"magma\")\n",
    "    plt.title(\"Top 10 Journals and Conferences for AI in Higher Education\")\n",
    "    plt.xlabel(\"Number of Publications\")\n",
    "    plt.ylabel(\"Source\")\n",
    "    plt.show()\n",
    "\n",
    "plot_relevant_sources(CSV_DATA if CSV_DATA is not None else API_DATA, 0 if CSV_DATA is not None else 1)"
   ]
  },
  {
   "cell_type": "markdown",
   "metadata": {},
   "source": [
    "#### Most prominent institutions"
   ]
  },
  {
   "cell_type": "code",
   "execution_count": 5,
   "metadata": {},
   "outputs": [
    {
     "name": "stderr",
     "output_type": "stream",
     "text": [
      "C:\\Users\\gilra\\AppData\\Local\\Temp\\ipykernel_25792\\3597858278.py:31: FutureWarning: \n",
      "\n",
      "Passing `palette` without assigning `hue` is deprecated and will be removed in v0.14.0. Assign the `y` variable to `hue` and set `legend=False` for the same effect.\n",
      "\n",
      "  sns.barplot(x=institution_counts.values, y=institution_counts.index, palette=\"plasma\")\n"
     ]
    },
    {
     "data": {
      "image/png": "[encoded data removed]",
      "text/plain": [
       "<Figure size 1000x600 with 1 Axes>"
      ]
     },
     "metadata": {},
     "output_type": "display_data"
    }
   ],
   "source": [
    "# df -> dataset\n",
    "# opt -> whether the data is from the csv or from the api, to know which column name to search for\n",
    "def plot_top_institutions(df, opt):\n",
    "    all_institutions = []\n",
    "    \n",
    "    if opt == 0:\n",
    "        for _, row in df.iterrows():\n",
    "            affiliation = str(row['Affiliations']).strip()\n",
    "            if affiliation and affiliation.lower() != 'nan':  \n",
    "                all_institutions.append(affiliation)\n",
    "    \n",
    "    elif opt == 1:\n",
    "        if isinstance(df, pd.DataFrame):\n",
    "            df = df.to_dict('records')\n",
    "            \n",
    "        for item in df:\n",
    "            if isinstance(item, dict): \n",
    "                affiliations = item.get('affiliations', [])\n",
    "                for affiliation in affiliations:\n",
    "                    institution = affiliation.get('name', '')\n",
    "                    if institution:\n",
    "                        all_institutions.append(institution)\n",
    "\n",
    "    if not all_institutions:\n",
    "        print(\"No valid affiliations found.\")\n",
    "        return\n",
    "\n",
    "    institution_counts = pd.Series(all_institutions).value_counts().head(10)\n",
    "    \n",
    "    plt.figure(figsize=(10, 6))\n",
    "    sns.barplot(x=institution_counts.values, y=institution_counts.index, palette=\"plasma\")\n",
    "    plt.title(\"Top 10 Institutions by Publication Count\")\n",
    "    plt.xlabel(\"Number of Publications\")\n",
    "    plt.ylabel(\"Institution\")\n",
    "    plt.show()\n",
    "\n",
    "plot_top_institutions(CSV_DATA if CSV_DATA is not None else API_DATA, 0 if CSV_DATA is not None else 1)"
   ]
  },
  {
   "cell_type": "markdown",
   "metadata": {},
   "source": [
    "#### Most prominent countries"
   ]
  },
  {
   "cell_type": "code",
   "execution_count": null,
   "metadata": {},
   "outputs": [],
   "source": [
    "# df -> dataset\n",
    "# opt -> whether the data is from the csv or from the api, to know which column name to search for\n",
    "def extract_countries(df, opt):\n",
    "    countries_list = []\n",
    "\n",
    "    if opt == 0:\n",
    "        for _, row in df.iterrows():\n",
    "            affiliation = str(row['Affiliations']).strip()\n",
    "            if affiliation and affiliation.lower() != 'nan':\n",
    "                parts = affiliation.split(',', 1)\n",
    "                if len(parts) > 1:\n",
    "                    country = parts[1].strip()\n",
    "                    countries_list.append(country)\n",
    "    \n",
    "    elif opt == 1:\n",
    "        if isinstance(df, pd.DataFrame):\n",
    "            df = df.to_dict('records')\n",
    "            \n",
    "        for item in df:\n",
    "            if isinstance(item, dict):\n",
    "                affiliations = item.get('affiliations', [])\n",
    "                for affiliation in affiliations:\n",
    "                    country = affiliation.get('country', '')\n",
    "                    if country:\n",
    "                        countries_list.append(country)\n",
    "\n",
    "    return countries_list\n",
    "\n",
    "# df -> dataset\n",
    "# opt -> whether the data is from the csv or from the api, to know which column name to search for\n",
    "def plot_top_countries(df, opt):\n",
    "    if isinstance(df, list):\n",
    "        df = pd.DataFrame(df)\n",
    "    \n",
    "    countries = extract_countries(df, opt)\n",
    "    \n",
    "    if countries:\n",
    "        countries_counts = pd.Series(countries).value_counts().head(10)\n",
    "        \n",
    "        plt.figure(figsize=(10, 6))\n",
    "        sns.barplot(x=countries_counts.values, y=countries_counts.index, palette=\"plasma\")\n",
    "        plt.title(\"Top 10 Countries by Publication Count\")\n",
    "        plt.xlabel(\"Number of Publications\")\n",
    "        plt.ylabel(\"Country\")\n",
    "        plt.tight_layout()\n",
    "        plt.show()\n",
    "    else:\n",
    "        print(\"No country data found to plot\")\n",
    "\n",
    "plot_top_countries(CSV_DATA if CSV_DATA is not None else API_DATA, 0 if CSV_DATA is not None else 1)"
   ]
  },
  {
   "cell_type": "markdown",
   "metadata": {},
   "source": [
    "### Who?"
   ]
  },
  {
   "cell_type": "markdown",
   "metadata": {},
   "source": [
    "#### Most prominent authors\n",
    "Only works with data from the CSV, has the standard API does not give data about the authors"
   ]
  },
  {
   "cell_type": "code",
   "execution_count": null,
   "metadata": {},
   "outputs": [],
   "source": [
    "def plot_most_prominent_authors(df):\n",
    "    # Function to clean the names of the authors\n",
    "    # They are stored like this: Kahlon, Yuval (57210749964);\n",
    "    def clean_author_name(author_string):\n",
    "        # regex to clean anything inside parentheses, parentheses included\n",
    "        cleaned_name = re.sub(r'\\(.*?\\)', '', author_string).strip()\n",
    "        return cleaned_name\n",
    "    \n",
    "    # Iterate over every article and get every participating author\n",
    "    # Add the author to the dictionary (dictionaries don't allow duplicate keys) and increment its citations\n",
    "    author_citations_dict = {}\n",
    "    \n",
    "    for _, row in df.iterrows():\n",
    "        if isinstance(row['Author full names'], str) and row['Author full names'].strip() != '':\n",
    "            authors = [clean_author_name(author.strip()) for author in row['Author full names'].split(';')]\n",
    "            \n",
    "            citation_count = row['Cited by']\n",
    "            \n",
    "            for author in authors:\n",
    "                if author in author_citations_dict:\n",
    "                    author_citations_dict[author] += citation_count\n",
    "                else:\n",
    "                    author_citations_dict[author] = citation_count\n",
    "    \n",
    "    author_citations_series = pd.Series(author_citations_dict).sort_values(ascending=False).head(10)\n",
    "    \n",
    "    plt.figure(figsize=(10, 6))\n",
    "    sns.barplot(x=author_citations_series.values, y=author_citations_series.index, palette=\"coolwarm\")\n",
    "    plt.title(\"Top 10 Authors by Total Citations\")\n",
    "    plt.xlabel(\"Total Citations\")\n",
    "    plt.ylabel(\"Author\")\n",
    "    plt.show()\n",
    "\n",
    "if CSV_DATA is not None:\n",
    "    plot_most_prominent_authors(CSV_DATA)\n",
    "else:\n",
    "    print(\"Please use CSV, as the API does not provide the necessary data to plot this information\")"
   ]
  },
  {
   "cell_type": "markdown",
   "metadata": {},
   "source": [
    "#### Authors with the most publications\n",
    "Only works with data from the CSV, has the standard API does not give data about the authors"
   ]
  },
  {
   "cell_type": "code",
   "execution_count": null,
   "metadata": {},
   "outputs": [],
   "source": [
    "def plot_authors_with_most_publications(df):\n",
    "    # Function to clean the names of the authors\n",
    "    # They are stored like this: Kahlon, Yuval (57210749964);\n",
    "    def clean_author_name(author_string):\n",
    "        # regex to clean anything inside parentheses, parentheses included\n",
    "        cleaned_name = re.sub(r'\\(.*?\\)', '', author_string).strip()\n",
    "        return cleaned_name\n",
    "    \n",
    "    # The names are stored as a string, so we split them up in individual names so we can count them\n",
    "    authors_list = df['Author full names'].dropna().apply(lambda x: [clean_author_name(author.strip()) for author in x.split(';')])\n",
    "    all_authors = [author for sublist in authors_list for author in sublist]\n",
    "    \n",
    "    author_counts = pd.Series(all_authors).value_counts().head(10)\n",
    "    \n",
    "    plt.figure(figsize=(10, 6))\n",
    "    sns.barplot(x=author_counts.values, y=author_counts.index, palette=\"coolwarm\")\n",
    "    plt.title(\"Top 10 Authors with the Most Publications\")\n",
    "    plt.xlabel(\"Number of Publications\")\n",
    "    plt.ylabel(\"Author\")\n",
    "    plt.show()\n",
    "\n",
    "if CSV_DATA is not None:\n",
    "    plot_authors_with_most_publications(CSV_DATA)\n",
    "else:\n",
    "    print(\"Please use CSV, as the API does not provide the necessary data to plot this information\")"
   ]
  },
  {
   "cell_type": "markdown",
   "metadata": {},
   "source": [
    "#### Sponsorships and Funding\n",
    "Only works with data from the CSV, has the standard API does not give data about the sponsorships"
   ]
  },
  {
   "cell_type": "code",
   "execution_count": null,
   "metadata": {},
   "outputs": [],
   "source": [
    "def plot_top_sponsors(df):\n",
    "    all_sponsors = [sponsor.strip() for sponsors in df['Sponsors'].dropna() for sponsor in sponsors.split(';')]\n",
    "    top_sponsors = pd.Series(all_sponsors).value_counts().head(10)\n",
    "    \n",
    "    plt.figure(figsize=(10, 6))\n",
    "    sns.barplot(x=top_sponsors.values, y=top_sponsors.index, palette=\"cividis\")\n",
    "    plt.title(\"Top 10 Sponsors by Publication Count\")\n",
    "    plt.xlabel(\"Number of Publications\")\n",
    "    plt.ylabel(\"Sponsor\")\n",
    "    plt.show()\n",
    "\n",
    "if CSV_DATA is not None:\n",
    "    plot_top_sponsors(CSV_DATA)\n",
    "else:\n",
    "    print(\"Please use CSV, as the API does not provide the necessary data to plot this information\")"
   ]
  },
  {
   "cell_type": "markdown",
   "metadata": {},
   "source": [
    "### When?"
   ]
  },
  {
   "cell_type": "markdown",
   "metadata": {},
   "source": [
    "#### Number of publications over time"
   ]
  },
  {
   "cell_type": "code",
   "execution_count": null,
   "metadata": {},
   "outputs": [],
   "source": [
    "def plot_publication_distribution(df):\n",
    "    publications_per_year = df['Year'].value_counts().sort_index()\n",
    "    \n",
    "    plt.figure(figsize=(12, 6))\n",
    "    sns.lineplot(x=publications_per_year.index, y=publications_per_year.values, marker=\"o\", color=\"b\")\n",
    "    plt.title(\"Publications Over Time\")\n",
    "    plt.xlabel(\"Year\")\n",
    "    plt.ylabel(\"Number of Publications\")\n",
    "    plt.grid(True)\n",
    "    plt.show()\n",
    "\n",
    "plot_publication_distribution(CSV_DATA if CSV_DATA is not None else API_DATA)"
   ]
  },
  {
   "cell_type": "markdown",
   "metadata": {},
   "source": [
    "#### Number of Documents per Year"
   ]
  },
  {
   "cell_type": "code",
   "execution_count": null,
   "metadata": {},
   "outputs": [],
   "source": [
    "def plot_open_access_distribution(data):\n",
    "    unique_access_values = data['Open Access'].unique()\n",
    "    print(\"Unique 'Open Access' Values:\", unique_access_values)\n",
    "\n",
    "    data['Is Open Access'] = data['Open Access'].str.contains(\"All Open Access\", na=False)\n",
    "\n",
    "    # Group data by 'Year' and 'Is Open Access', counting documents\n",
    "    document_counts = data.groupby(['Year', 'Is Open Access']).size().unstack(fill_value=0)\n",
    "    \n",
    "    plt.figure(figsize=(10, 6))\n",
    "    document_counts.plot(kind='line', marker='o', title='Number of Documents per Year: Open Access vs Non-Open Access')\n",
    "    plt.xlabel(\"Year\")\n",
    "    plt.ylabel(\"Number of Documents\")\n",
    "    plt.legend([\"Non-Open Access\", \"Open Access\"], title=\"Access Type\")\n",
    "    plt.grid(True)\n",
    "    plt.tight_layout()\n",
    "    plt.show()\n",
    "\n",
    "plot_open_access_distribution(CSV_DATA if CSV_DATA is not None else API_DATA)\n"
   ]
  },
  {
   "cell_type": "markdown",
   "metadata": {},
   "source": [
    "#### Citations per Year"
   ]
  },
  {
   "cell_type": "code",
   "execution_count": null,
   "metadata": {},
   "outputs": [],
   "source": [
    "def analyze_citations(data):\n",
    "    # Add a column to indicate open access status\n",
    "    data['Is Open Access'] = data['Open Access'].str.contains(\"All Open Access\", na=False)\n",
    "\n",
    "    # Group by year and open access status, then calculate the sum of citations\n",
    "    grouped_data = data.groupby(['Year', 'Is Open Access'])['Cited by'].sum().unstack(fill_value=0)\n",
    "\n",
    "    plt.figure(figsize=(10, 6))\n",
    "    grouped_data.plot(kind='line', marker='o', title='Citations per Year: Open Access vs Non-Open Access')\n",
    "    plt.xlabel(\"Year\")\n",
    "    plt.ylabel(\"Total Citations\")\n",
    "    plt.legend([\"Non-Open Access\", \"Open Access\"], title=\"Access Type\")\n",
    "    plt.grid(True)\n",
    "    plt.tight_layout()\n",
    "    plt.show()\n",
    "\n",
    "analyze_citations(CSV_DATA if CSV_DATA is not None else API_DATA)"
   ]
  },
  {
   "cell_type": "markdown",
   "metadata": {},
   "source": [
    "## Pre-Processing"
   ]
  },
  {
   "cell_type": "markdown",
   "metadata": {},
   "source": [
    "*Import Libraries & Download NLTK Resources*"
   ]
  },
  {
   "cell_type": "code",
   "execution_count": null,
   "metadata": {},
   "outputs": [],
   "source": [
    "\n",
    "import pandas as pd\n",
    "import nltk\n",
    "import re\n",
    "from nltk.corpus import stopwords\n",
    "from nltk.tokenize import word_tokenize\n",
    "from nltk.stem import WordNetLemmatizer, PorterStemmer\n",
    "import string\n",
    "import matplotlib.pyplot as plt\n",
    "from wordcloud import WordCloud, STOPWORDS, ImageColorGenerator\n",
    "import matplotlib.font_manager as fm\n",
    "\n",
    "# Download NLTK resources\n",
    "nltk.download('stopwords')\n",
    "nltk.download('punkt')\n",
    "nltk.download('averaged_perceptron_tagger')\n",
    "nltk.download('punkt_tab')\n",
    "nltk.download('wordnet')\n",
    "nltk.download('omw-1.4')\n"
   ]
  },
  {
   "cell_type": "markdown",
   "metadata": {},
   "source": [
    "#### *Inspect Data*"
   ]
  },
  {
   "cell_type": "code",
   "execution_count": null,
   "metadata": {},
   "outputs": [],
   "source": [
    "print(CSV_DATA['Abstract'])         # Inspect sample abstracts\n"
   ]
  },
  {
   "cell_type": "markdown",
   "metadata": {},
   "source": [
    "#### ***Text Preprocessing***"
   ]
  },
  {
   "cell_type": "code",
   "execution_count": 247,
   "metadata": {},
   "outputs": [],
   "source": [
    "def advanced_text_preprocess(\n",
    "    text, \n",
    "    lowercase=True, \n",
    "    remove_punctuation=True, \n",
    "    remove_numbers=True, \n",
    "    remove_stopwords=True, \n",
    "    lemmatize=True\n",
    "):\n",
    "    \"\"\"\n",
    "    Advanced text preprocessing function with configurable options\n",
    "    \n",
    "    Parameters:\n",
    "    - text: Input text string\n",
    "    - lowercase: Convert text to lowercase\n",
    "    - remove_punctuation: Remove punctuation marks\n",
    "    - remove_numbers: Remove numeric characters\n",
    "    - remove_stopwords: Remove common stopwords\n",
    "    - lemmatize: Apply lemmatization\n",
    "    \n",
    "    Returns:\n",
    "    Preprocessed text string\n",
    "    \"\"\"\n",
    "    # Ensure text is a string and not NaN\n",
    "    if not isinstance(text, str):\n",
    "        return ''\n",
    "    \n",
    "    # Lowercase conversion\n",
    "    if lowercase:\n",
    "        text = text.lower()\n",
    "    \n",
    "    # Remove URLs\n",
    "    text = re.sub(r'http\\S+|www\\S+|https\\S+', '', text, flags=re.MULTILINE)\n",
    "    \n",
    "    # Remove email addresses\n",
    "    text = re.sub(r'\\S+@\\S+', '', text)\n",
    "    \n",
    "    # Remove punctuation\n",
    "    if remove_punctuation:\n",
    "        text = text.translate(str.maketrans('', '', string.punctuation))\n",
    "    \n",
    "    # Remove numbers\n",
    "    if remove_numbers:\n",
    "        text = re.sub(r'\\d+', '', text)\n",
    "    \n",
    "    # Tokenization\n",
    "    tokens = word_tokenize(text)\n",
    "    \n",
    "    # Remove stopwords\n",
    "    if remove_stopwords:\n",
    "        stop_words = set(stopwords.words('english'))\n",
    "        tokens = [token for token in tokens if token not in stop_words]\n",
    "    \n",
    "    # Lemmatization\n",
    "    if lemmatize:\n",
    "        lemmatizer = WordNetLemmatizer()\n",
    "        tokens = [lemmatizer.lemmatize(token) for token in tokens]\n",
    "    \n",
    "    # Return processed tokens as a string\n",
    "    return ' '.join(tokens)\n"
   ]
  },
  {
   "cell_type": "markdown",
   "metadata": {},
   "source": [
    "#### *Apply **Preprocessing** to Abstracts*"
   ]
  },
  {
   "cell_type": "code",
   "execution_count": 248,
   "metadata": {},
   "outputs": [],
   "source": [
    "# Basic usage\n",
    "CSV_DATA['Processed_Abstract'] = CSV_DATA['Abstract'].apply(advanced_text_preprocess)\n",
    "CSV_DATA['Processed_Abstract'] = CSV_DATA['Processed_Abstract'].fillna(\"\")\n",
    "CSV_DATA['Processed_Abstract'] = CSV_DATA['Processed_Abstract'].astype(str)\n",
    "\n",
    "\n",
    "# Customized preprocessing\n",
    "CSV_DATA['Custom_Processed'] = CSV_DATA['Abstract'].apply(\n",
    "    lambda x: advanced_text_preprocess(\n",
    "        x, \n",
    "        lowercase=True, \n",
    "        remove_numbers=False, \n",
    "        lemmatize=True\n",
    "    )\n",
    ")"
   ]
  },
  {
   "cell_type": "markdown",
   "metadata": {},
   "source": [
    "#### *Processed Results*"
   ]
  },
  {
   "cell_type": "code",
   "execution_count": null,
   "metadata": {},
   "outputs": [],
   "source": [
    "selected_columns = CSV_DATA[['Abstract', 'Processed_Abstract']]\n",
    "selected_columns.head(20)"
   ]
  },
  {
   "cell_type": "markdown",
   "metadata": {},
   "source": [
    "#### *Wordcloud*"
   ]
  },
  {
   "cell_type": "code",
   "execution_count": null,
   "metadata": {},
   "outputs": [],
   "source": [
    "\n",
    "def generate_wordcloud(text_series, title='Word Cloud', max_words=10000, background_color='white'):\n",
    "    \"\"\"\n",
    "    Generate a word cloud from a pandas Series of text\n",
    "    \n",
    "    Parameters:\n",
    "    - text_series: Pandas Series containing processed text\n",
    "    - title: Title of the word cloud\n",
    "    - max_words: Maximum number of words to display\n",
    "    - background_color: Background color of the word cloud\n",
    "    \"\"\"\n",
    "\n",
    "    # Combine all text into a single string\n",
    "    text = ' '.join(text_series.dropna())\n",
    "    \n",
    "    # Create WordCloud object\n",
    "    wordcloud = WordCloud(\n",
    "        width=800, \n",
    "        height=400, \n",
    "        background_color=background_color, \n",
    "        max_words=max_words,\n",
    "        stopwords = STOPWORDS,\n",
    "        colormap='viridis'  \n",
    "    ).generate(text)\n",
    "    \n",
    "    # Create the plot\n",
    "    plt.figure(figsize=(16,10), facecolor=None)\n",
    "    plt.imshow(wordcloud)\n",
    "    plt.axis('off')\n",
    "    plt.tight_layout(pad=0)\n",
    "    plt.title(title, fontsize=20)\n",
    "    plt.show()\n",
    "\n",
    "\n",
    "generate_wordcloud(CSV_DATA['Processed_Abstract'], title='Research Abstract Keywords')"
   ]
  },
  {
   "cell_type": "markdown",
   "metadata": {},
   "source": [
    "#### *Import Libraries*"
   ]
  },
  {
   "cell_type": "code",
   "execution_count": 251,
   "metadata": {},
   "outputs": [],
   "source": [
    "from nltk import pos_tag\n",
    "from sklearn.feature_extraction.text import CountVectorizer\n",
    "from sklearn.feature_extraction.text import TfidfVectorizer\n",
    "import numpy as np\n",
    "import matplotlib.pyplot as plt\n",
    "import seaborn as sns"
   ]
  },
  {
   "cell_type": "markdown",
   "metadata": {},
   "source": [
    "#### ***Bag-of-Words***\n",
    "(Represents text as a vector of word counts, ignoring grammar and word order.)"
   ]
  },
  {
   "cell_type": "code",
   "execution_count": null,
   "metadata": {},
   "outputs": [],
   "source": [
    "# Create Bag of Words representation\n",
    "bow_vectorizer = CountVectorizer(max_features=1000)\n",
    "bow_features = bow_vectorizer.fit_transform(CSV_DATA['Processed_Abstract'])\n",
    "\n",
    "# Convert to DataFrame for easier viewing\n",
    "bow_df = pd.DataFrame(\n",
    "    bow_features.toarray(), \n",
    "    columns=bow_vectorizer.get_feature_names_out()\n",
    ")\n",
    "\n",
    "print(bow_df)"
   ]
  },
  {
   "cell_type": "code",
   "execution_count": null,
   "metadata": {},
   "outputs": [],
   "source": [
    "# Sum up the counts of each word\n",
    "sum_words = bow_df.sum(axis=0)\n",
    "\n",
    "# Sort and select top 10 words\n",
    "sorted_words = sum_words.sort_values(ascending=False)[:10]\n",
    "\n",
    "# Plot\n",
    "plt.figure(figsize=(12, 6))\n",
    "sorted_words.plot(kind='bar')\n",
    "plt.title('Top 10 Most Common Words')\n",
    "plt.xlabel('Words')\n",
    "plt.ylabel('Frequency')\n",
    "plt.show()"
   ]
  },
  {
   "cell_type": "markdown",
   "metadata": {},
   "source": [
    "### ***TF-IDF***\n",
    "(Statistical measure that evaluates the importance of a word in a document relative to a collection of documents (corpus)."
   ]
  },
  {
   "cell_type": "code",
   "execution_count": 254,
   "metadata": {},
   "outputs": [],
   "source": [
    "# Create TF-IDF representation\n",
    "tfidf_vectorizer = TfidfVectorizer()\n",
    "tfidf_features = tfidf_vectorizer.fit_transform(CSV_DATA['Processed_Abstract'])\n",
    "\n",
    "# Convert to DataFrame\n",
    "tfidf_df = pd.DataFrame(\n",
    "    tfidf_features.toarray(), \n",
    "    columns=tfidf_vectorizer.get_feature_names_out()\n",
    ")\n",
    "\n"
   ]
  },
  {
   "cell_type": "code",
   "execution_count": null,
   "metadata": {},
   "outputs": [],
   "source": [
    "# Sum up the counts of each bigram\n",
    "sum_tfidf = tfidf_df.sum(axis=0)\n",
    "\n",
    "# Sort and select top 10 bigrams\n",
    "sorted_tfidf = sum_tfidf.sort_values(ascending=False)[:10]\n",
    "\n",
    "# Plot\n",
    "plt.figure(figsize=(12, 6))\n",
    "sorted_tfidf.plot(kind='bar')\n",
    "plt.title('Top 10 Most TF-IDF')\n",
    "plt.xlabel('tfidf')\n",
    "plt.ylabel('Frequency')\n",
    "plt.show()"
   ]
  },
  {
   "cell_type": "markdown",
   "metadata": {},
   "source": [
    "### ***N-Grams***\n",
    "(Generate N-Grams to analyze word combinations in the abstracts)"
   ]
  },
  {
   "cell_type": "code",
   "execution_count": 256,
   "metadata": {},
   "outputs": [],
   "source": [
    "ngram_vectorizer = CountVectorizer(\n",
    "    ngram_range=(2, 2),  # Include unigrams and bigrams\n",
    "    max_features=1000\n",
    ")\n",
    "ngram_features = ngram_vectorizer.fit_transform(CSV_DATA['Processed_Abstract'])\n",
    "\n",
    "ngram_df = pd.DataFrame(ngram_features.toarray(), columns=ngram_vectorizer.get_feature_names_out())\n"
   ]
  },
  {
   "cell_type": "code",
   "execution_count": null,
   "metadata": {},
   "outputs": [],
   "source": [
    "# Sum up the counts of each bigram\n",
    "sum_bigrams = ngram_df.sum(axis=0)\n",
    "\n",
    "# Sort and select top 10 bigrams\n",
    "sorted_bigrams = sum_bigrams.sort_values(ascending=False)[:10]\n",
    "\n",
    "# Plot\n",
    "plt.figure(figsize=(12, 6))\n",
    "sorted_bigrams.plot(kind='bar')\n",
    "plt.title('Top 10 Most Common Bigrams')\n",
    "plt.xlabel('Bigrams')\n",
    "plt.ylabel('Frequency')\n",
    "plt.show()\n"
   ]
  },
  {
   "cell_type": "markdown",
   "metadata": {},
   "source": [
    "#### ***Part Of Speech Tagging***\n",
    "(Label each token with its grammatical category)"
   ]
  },
  {
   "cell_type": "code",
   "execution_count": 258,
   "metadata": {},
   "outputs": [],
   "source": [
    "# Function to tag POS in a sentence\n",
    "def pos_tag_sentence(sentence):\n",
    "    try:\n",
    "        tokens = word_tokenize(sentence)\n",
    "        return pos_tag(tokens)\n",
    "    except TypeError:\n",
    "        return []\n",
    "\n",
    "# Apply POS tagging to each cleaned abstract\n",
    "CSV_DATA['POS_Tagged_Abstract'] = CSV_DATA['Processed_Abstract'].apply(pos_tag_sentence)\n"
   ]
  },
  {
   "cell_type": "code",
   "execution_count": null,
   "metadata": {},
   "outputs": [],
   "source": [
    "import matplotlib.pyplot as plt\n",
    "from collections import Counter\n",
    "import itertools\n",
    "\n",
    "# Flatten the list of all POS tags from all abstracts\n",
    "all_tags = list(itertools.chain.from_iterable(CSV_DATA['POS_Tagged_Abstract'].apply(lambda x: [tag for word, tag in x])))\n",
    "\n",
    "# Count the frequency of each POS tag\n",
    "tag_freq = Counter(all_tags)\n",
    "\n",
    "# Create a pie chart\n",
    "plt.figure(figsize=(7, 7))\n",
    "plt.pie(tag_freq.values(), labels=tag_freq.keys(), autopct='%1.1f%%')\n",
    "plt.title('Overall Distribution of POS Tags')\n",
    "plt.show()\n"
   ]
  },
  {
   "cell_type": "markdown",
   "metadata": {},
   "source": [
    "#### ***Another Advanced Features:***\n",
    "- ***Word Count***: The total number of words in the text.\n",
    "- ***Unique Word Count:*** The number of unique words in the text.\n",
    "- ***Average Word Length***: The average length of words in the text.\n",
    "- ***Text Complexity***: The ratio of the total text length to the number of words.\n",
    "- ***Word Length Standard Deviation***: The standard deviation of word lengths, indicating word length variation.\n",
    "- ***Vocabulary Richness***: The ratio of unique words to total words, indicating lexical diversity.\n"
   ]
  },
  {
   "cell_type": "code",
   "execution_count": 260,
   "metadata": {},
   "outputs": [],
   "source": [
    "def enhanced_advanced_features(text):\n",
    "    words = text.split()\n",
    "    if not words:\n",
    "        return {\n",
    "            'word_count': 0,\n",
    "            'unique_word_count': 0,\n",
    "            'avg_word_length': 0,\n",
    "            'text_complexity': 0,\n",
    "            'word_length_std': 0,\n",
    "            'vocabulary_richness': 0\n",
    "        }\n",
    "    \n",
    "    return {\n",
    "        'word_count': len(words),\n",
    "        'unique_word_count': len(set(words)),\n",
    "        'avg_word_length': np.mean([len(word) for word in words]),\n",
    "        'text_complexity': len(text) / len(words),\n",
    "        'word_length_std': np.std([len(word) for word in words]),  # Word length variation\n",
    "        'vocabulary_richness': len(set(words)) / len(words)  # Lexical diversity ratio\n",
    "    }\n",
    "\n",
    "# Apply advanced feature extraction\n",
    "advanced_features = CSV_DATA['Processed_Abstract'].apply(enhanced_advanced_features).apply(pd.Series)\n"
   ]
  },
  {
   "cell_type": "markdown",
   "metadata": {},
   "source": [
    "#### ***Vizualization***:\n",
    "\n",
    "***Word Count Distribution*** - A histogram showing the distribution of the total number of words in the abstracts.\n",
    "\n",
    "***Unique vs Total Words*** - A scatter plot comparing the number of unique words to the total number of words.\n",
    "\n",
    "***Average Word Length Distribution*** - A histogram showing the distribution of the average word length.\n",
    "\n",
    "***Text Complexity Distribution*** - A histogram showing the distribution of text complexity.\n",
    "\n",
    "***Vocabulary Richness*** - A histogram showing the distribution of vocabulary richness.\n",
    "\n",
    "***Word Length Variation*** - A histogram showing the distribution of the standard deviation of word lengths."
   ]
  },
  {
   "cell_type": "code",
   "execution_count": null,
   "metadata": {},
   "outputs": [],
   "source": [
    "# Create visualizations\n",
    "plt.figure(figsize=(15,10))\n",
    "\n",
    "# 1. Distribution of Word Count\n",
    "plt.subplot(2, 3, 1)\n",
    "sns.histplot(advanced_features['word_count'], kde=True)\n",
    "plt.title('Word Count Distribution')\n",
    "plt.xlabel('Number of Words')\n",
    "\n",
    "# 2. Unique Word +Count vs Total Word Count\n",
    "plt.subplot(2, 3, 2)\n",
    "plt.scatter(advanced_features['word_count'], advanced_features['unique_word_count'], alpha=0.5)\n",
    "plt.title('Unique vs Total Words')\n",
    "plt.xlabel('Total Words')\n",
    "plt.ylabel('Unique Words')\n",
    "\n",
    "# 3. Average Word Length Distribution\n",
    "plt.subplot(2, 3, 3)\n",
    "sns.histplot(advanced_features['avg_word_length'], kde=True)\n",
    "plt.title('Average Word Length')\n",
    "plt.xlabel('Average Word Length')\n",
    "\n",
    "# 4. Text Complexity Distribution\n",
    "plt.subplot(2, 3, 4)\n",
    "sns.histplot(advanced_features['text_complexity'], kde=True)\n",
    "plt.title('Text Complexity Distribution')\n",
    "plt.xlabel('Text Complexity')\n",
    "\n",
    "# 5. Vocabulary Richness\n",
    "plt.subplot(2, 3, 5)\n",
    "sns.histplot(advanced_features['vocabulary_richness'], kde=True)\n",
    "plt.title('Vocabulary Richness')\n",
    "plt.xlabel('Unique Words / Total Words')\n",
    "\n",
    "# 6. Word Length Standard Deviation\n",
    "plt.subplot(2, 3, 6)\n",
    "sns.histplot(advanced_features['word_length_std'], kde=True)\n",
    "plt.title('Word Length Variation')\n",
    "plt.xlabel('Standard Deviation of Word Lengths')\n",
    "\n",
    "plt.tight_layout()\n",
    "plt.show()\n",
    "\n",
    "# Additional statistical summary\n",
    "#print(advanced_features.describe())"
   ]
  },
  {
   "cell_type": "markdown",
   "metadata": {},
   "source": [
    "# Modelling"
   ]
  },
  {
   "cell_type": "markdown",
   "metadata": {},
   "source": [
    "Import Libraries"
   ]
  },
  {
   "cell_type": "code",
   "execution_count": 262,
   "metadata": {},
   "outputs": [],
   "source": [
    "from gensim.corpora import Dictionary\n",
    "from gensim.models import LdaModel\n",
    "import pyLDAvis\n",
    "import pyLDAvis.gensim_models as gensimvis\n",
    "from gensim.models.coherencemodel import CoherenceModel\n",
    "from sklearn.cluster import KMeans\n",
    "from sklearn.metrics import silhouette_score\n",
    "from sklearn.decomposition import PCA\n",
    "import matplotlib.pyplot as plt"
   ]
  },
  {
   "cell_type": "markdown",
   "metadata": {},
   "source": [
    "Tokenize the processed text"
   ]
  },
  {
   "cell_type": "code",
   "execution_count": 263,
   "metadata": {},
   "outputs": [],
   "source": [
    "CSV_DATA['tokenized_Abstract'] = CSV_DATA['Processed_Abstract'].apply(lambda x: x.split())"
   ]
  },
  {
   "cell_type": "markdown",
   "metadata": {},
   "source": [
    "Dictionary and Corpus creation"
   ]
  },
  {
   "cell_type": "code",
   "execution_count": 264,
   "metadata": {},
   "outputs": [],
   "source": [
    "dictionary = Dictionary(CSV_DATA['tokenized_Abstract'])\n",
    "corpus = [dictionary.doc2bow(text) for text in CSV_DATA['tokenized_Abstract']]"
   ]
  },
  {
   "cell_type": "markdown",
   "metadata": {},
   "source": [
    "### LDA Model Implementation"
   ]
  },
  {
   "cell_type": "markdown",
   "metadata": {},
   "source": [
    "Coherence score - How semantically meaningful the discovered topics are"
   ]
  },
  {
   "cell_type": "code",
   "execution_count": null,
   "metadata": {},
   "outputs": [],
   "source": [
    "#LDA Model\n",
    "lda_model = LdaModel(corpus, num_topics=5, id2word=dictionary, passes=15)\n",
    "\n",
    "# Print the topics\n",
    "topics = lda_model.print_topics(num_words=4)\n",
    "for topic in topics:\n",
    "    print(f'Topic {topic[0]}: Words: {topic[1]}')\n",
    "\n",
    "# Compute coherence score\n",
    "coherence_model = CoherenceModel(model=lda_model, texts=CSV_DATA['tokenized_Abstract'], dictionary=dictionary, coherence='c_v')\n",
    "coherence_score = coherence_model.get_coherence()\n",
    "print(f'\\nCoherence Score: {coherence_score}')"
   ]
  },
  {
   "cell_type": "markdown",
   "metadata": {},
   "source": [
    "### Topic Model Visualization"
   ]
  },
  {
   "cell_type": "code",
   "execution_count": null,
   "metadata": {},
   "outputs": [],
   "source": [
    "pyLDAvis.enable_notebook()\n",
    "vis = gensimvis.prepare(\n",
    "    lda_model, \n",
    "    corpus, \n",
    "    dictionary,\n",
    "    R=10        # Number of top words to display per topic\n",
    ")\n",
    "pyLDAvis.display(vis)"
   ]
  },
  {
   "cell_type": "markdown",
   "metadata": {},
   "source": [
    "Document topics"
   ]
  },
  {
   "cell_type": "code",
   "execution_count": 267,
   "metadata": {},
   "outputs": [],
   "source": [
    "def get_document_topics(doc_bow):\n",
    "    doc_topics = lda_model.get_document_topics(doc_bow)\n",
    "    return [topic_prob for topic_id, topic_prob in doc_topics]\n",
    "\n",
    "CSV_DATA['document_topics'] = CSV_DATA['tokenized_Abstract'].apply(lambda x: dictionary.doc2bow(x)).apply(get_document_topics)\n"
   ]
  },
  {
   "cell_type": "markdown",
   "metadata": {},
   "source": [
    "Dominant topics"
   ]
  },
  {
   "cell_type": "code",
   "execution_count": 268,
   "metadata": {},
   "outputs": [],
   "source": [
    "def get_dominant_topic(doc_bow):\n",
    "    doc_topics = lda_model.get_document_topics(doc_bow)\n",
    "    if doc_topics:\n",
    "        dominant_topic = max(doc_topics, key=lambda x: x[1])  # Find topic with max probability\n",
    "        return dominant_topic[0], dominant_topic[1]  # Return topic ID and probability\n",
    "    return None, 0  # Handle empty documents\n",
    "\n",
    "CSV_DATA[['dominant_topic', 'dominant_prob']] = CSV_DATA['tokenized_Abstract'].apply(\n",
    "    lambda x: get_dominant_topic(dictionary.doc2bow(x))\n",
    ").apply(pd.Series)\n"
   ]
  },
  {
   "cell_type": "markdown",
   "metadata": {},
   "source": [
    "Relevant Topics"
   ]
  },
  {
   "cell_type": "code",
   "execution_count": 269,
   "metadata": {},
   "outputs": [],
   "source": [
    "def get_relevant_topics(doc_bow, threshold=0.1):\n",
    "    doc_topics = lda_model.get_document_topics(doc_bow)\n",
    "    return {topic_id: topic_prob for topic_id, topic_prob in doc_topics if topic_prob > threshold}\n",
    "\n",
    "CSV_DATA['relevant_topics'] = CSV_DATA['tokenized_Abstract'].apply(lambda x: dictionary.doc2bow(x)).apply(get_relevant_topics)\n"
   ]
  },
  {
   "cell_type": "markdown",
   "metadata": {},
   "source": [
    "Topics Wordcloud"
   ]
  },
  {
   "cell_type": "code",
   "execution_count": null,
   "metadata": {},
   "outputs": [],
   "source": [
    "for t in range(lda_model.num_topics):\n",
    "    plt.figure()\n",
    "    plt.imshow(WordCloud().fit_words(dict(lda_model.show_topic(t, 200))))\n",
    "    plt.axis(\"off\")\n",
    "    plt.title(\"Topic #\" + str(t))\n",
    "    plt.show()\n"
   ]
  },
  {
   "cell_type": "markdown",
   "metadata": {},
   "source": [
    "## Clustering"
   ]
  },
  {
   "cell_type": "markdown",
   "metadata": {},
   "source": [
    "Number of K Clusters"
   ]
  },
  {
   "cell_type": "code",
   "execution_count": null,
   "metadata": {},
   "outputs": [],
   "source": [
    "# Elbow Method\n",
    "inertia = []\n",
    "K = range(1, 10)\n",
    "\n",
    "for k in K:\n",
    "    kmeans = KMeans(n_clusters=k)\n",
    "    kmeans.fit(tfidf_df)\n",
    "    inertia.append(kmeans.inertia_)\n",
    "\n",
    "plt.figure(figsize=(16, 8))\n",
    "plt.plot(K, inertia, 'bx-')\n",
    "plt.xlabel('k')\n",
    "plt.ylabel('Inertia')\n",
    "plt.title('The Elbow Method showing the optimal k')\n",
    "plt.show()\n"
   ]
  },
  {
   "cell_type": "markdown",
   "metadata": {},
   "source": [
    "The optimal K number seems to be 'K=3'"
   ]
  },
  {
   "cell_type": "code",
   "execution_count": null,
   "metadata": {},
   "outputs": [],
   "source": [
    "kmeans = KMeans(n_clusters=3)\n",
    "clusters = kmeans.fit_predict(tfidf_df)\n",
    "CSV_DATA['Cluster'] = clusters\n"
   ]
  },
  {
   "cell_type": "code",
   "execution_count": null,
   "metadata": {},
   "outputs": [],
   "source": [
    "for i in range(3):\n",
    "    print(f\"Cluster {i}:\")\n",
    "    print(CSV_DATA[CSV_DATA['Cluster'] == i]['Processed_Abstract'])\n"
   ]
  },
  {
   "cell_type": "markdown",
   "metadata": {},
   "source": [
    "### Clustering - from the topics"
   ]
  },
  {
   "cell_type": "code",
   "execution_count": 275,
   "metadata": {},
   "outputs": [],
   "source": [
    "# Topic distribution for each document\n",
    "doc_topic_dist = [lda_model.get_document_topics(bow) for bow in corpus]\n",
    "\n",
    "# Initialize a matrix with zeros\n",
    "doc_topic_matrix = np.zeros((len(doc_topic_dist), lda_model.num_topics))\n",
    "\n",
    "# Populate the matrix\n",
    "for i, doc in enumerate(doc_topic_dist):\n",
    "    for topic, prob in doc:\n",
    "        doc_topic_matrix[i, topic] = prob\n"
   ]
  },
  {
   "cell_type": "code",
   "execution_count": null,
   "metadata": {},
   "outputs": [],
   "source": [
    "# Perform K-means clustering (k=3)\n",
    "kmeans = KMeans(n_clusters=3, random_state=42)\n",
    "clusters = kmeans.fit_predict(doc_topic_matrix)\n",
    "\n",
    "# Adding cluster labels to the original DataFrame\n",
    "CSV_DATA['Topic_Cluster'] = clusters\n",
    "\n",
    "\n",
    "# Evaluate clustering using silhouette score\n",
    "silhouette_avg = silhouette_score(doc_topic_matrix, clusters)\n",
    "print(f\"Silhouette Score: {silhouette_avg}\")\n"
   ]
  },
  {
   "cell_type": "code",
   "execution_count": null,
   "metadata": {},
   "outputs": [],
   "source": [
    "# Perform PCA for dimensionality reduction\n",
    "pca = PCA(n_components=2)\n",
    "reduced_features = pca.fit_transform(doc_topic_matrix)\n",
    "\n",
    "# Plot the clusters\n",
    "plt.scatter(reduced_features[:, 0], reduced_features[:, 1], c=clusters)\n",
    "plt.xlabel('PCA 1')\n",
    "plt.ylabel('PCA 2')\n",
    "plt.title('Topic Cluster Visualization using PCA')\n",
    "plt.show()\n"
   ]
  },
  {
   "cell_type": "code",
   "execution_count": null,
   "metadata": {},
   "outputs": [],
   "source": [
    "# Analyze clusters (3)\n",
    "for i in range(3):\n",
    "    print(f\"Cluster {i}:\")\n",
    "    print(CSV_DATA[CSV_DATA['Topic_Cluster'] == i]['Processed_Abstract'])\n"
   ]
  },
  {
   "cell_type": "markdown",
   "metadata": {},
   "source": [
    "### Hierarchical Clustering"
   ]
  },
  {
   "cell_type": "code",
   "execution_count": null,
   "metadata": {},
   "outputs": [],
   "source": [
    "from scipy.cluster.hierarchy import dendrogram, linkage\n",
    "import matplotlib.pyplot as plt\n",
    "\n",
    "# Create the linkage matrix using the Ward method (minimizes variance within clusters)\n",
    "linkage_matrix = linkage(doc_topic_matrix, method='ward')\n",
    "\n",
    "# Plot the dendrogram\n",
    "plt.figure(figsize=(12, 6))\n",
    "dendrogram(\n",
    "    linkage_matrix,\n",
    "    truncate_mode='level',\n",
    "    p=5,                    \n",
    "    leaf_rotation=90.,\n",
    "    leaf_font_size=10.,\n",
    "    show_contracted=True\n",
    ")\n",
    "plt.title(\"Hierarchical Clustering Dendrogram (LDA Topics)\")\n",
    "plt.xlabel(\"Document Index\")\n",
    "plt.ylabel(\"Distance\")\n",
    "plt.show()\n"
   ]
  },
  {
   "cell_type": "markdown",
   "metadata": {},
   "source": [
    "Assign Cluster Labels"
   ]
  },
  {
   "cell_type": "code",
   "execution_count": null,
   "metadata": {},
   "outputs": [],
   "source": [
    "from scipy.cluster.hierarchy import fcluster\n",
    "\n",
    "num_clusters = 3\n",
    "clusters = fcluster(linkage_matrix, num_clusters, criterion='maxclust')\n",
    "\n",
    "# Add cluster labels to the dataset\n",
    "CSV_DATA['hierarchical_cluster'] = clusters\n",
    "print(CSV_DATA[['Processed_Abstract', 'hierarchical_cluster']].head())\n"
   ]
  },
  {
   "cell_type": "markdown",
   "metadata": {},
   "source": [
    "#### Visualize Clusters using t-SNE"
   ]
  },
  {
   "cell_type": "code",
   "execution_count": null,
   "metadata": {},
   "outputs": [],
   "source": [
    "from sklearn.manifold import TSNE\n",
    "\n",
    "# Reduce dimensionality for visualization\n",
    "tsne = TSNE(n_components=2, random_state=42, perplexity=30, n_iter=300)\n",
    "tsne_results = tsne.fit_transform(doc_topic_matrix)\n",
    "\n",
    "# Plot clusters\n",
    "plt.figure(figsize=(10, 6))\n",
    "plt.scatter(tsne_results[:, 0], tsne_results[:, 1], c=clusters, cmap='tab10', s=50, alpha=0.7)\n",
    "plt.colorbar()\n",
    "plt.title(\"Hierarchical Clusters Visualization (t-SNE)\")\n",
    "plt.xlabel(\"t-SNE Dimension 1\")\n",
    "plt.ylabel(\"t-SNE Dimension 2\")\n",
    "plt.show()\n"
   ]
  },
  {
   "cell_type": "code",
   "execution_count": null,
   "metadata": {},
   "outputs": [],
   "source": [
    "# Find dominant topics within each cluster\n",
    "for cluster_id in range(1, num_clusters + 1):\n",
    "    cluster_docs = CSV_DATA[CSV_DATA['hierarchical_cluster'] == cluster_id]\n",
    "    topic_means = np.mean(\n",
    "        doc_topic_matrix[cluster_docs.index], axis=0\n",
    "    )  # Mean topic probabilities for the cluster\n",
    "    print(f\"Cluster {cluster_id}: Dominant Topics: {np.argsort(-topic_means)[:3]}\")  # Top 3 topics\n"
   ]
  },
  {
   "cell_type": "markdown",
   "metadata": {},
   "source": [
    "### Heatmap of Topic Distributions"
   ]
  },
  {
   "cell_type": "code",
   "execution_count": null,
   "metadata": {},
   "outputs": [],
   "source": [
    "# DataFrame of the topic distribution matrix and cluster labels\n",
    "topic_df = pd.DataFrame(doc_topic_matrix)\n",
    "topic_df['Cluster'] = clusters\n",
    "\n",
    "# Mean topic distribution for each cluster\n",
    "cluster_means = topic_df.groupby('Cluster').mean()\n",
    "\n",
    "# Create the heatmap\n",
    "plt.figure(figsize=(12, 8))\n",
    "sns.heatmap(cluster_means, annot=True, cmap='coolwarm')\n",
    "plt.title('Heatmap of Average Topic Distributions per Cluster')\n",
    "plt.show()\n"
   ]
  }
 ],
 "metadata": {
  "kernelspec": {
   "display_name": "ICD2425",
   "language": "python",
   "name": "python3"
  },
  "language_info": {
   "codemirror_mode": {
    "name": "ipython",
    "version": 3
   },
   "file_extension": ".py",
   "mimetype": "text/x-python",
   "name": "python",
   "nbconvert_exporter": "python",
   "pygments_lexer": "ipython3",
   "version": "3.12.0"
  }
 },
 "nbformat": 4,
 "nbformat_minor": 2
}
